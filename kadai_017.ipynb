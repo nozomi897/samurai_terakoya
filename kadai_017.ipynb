{
  "nbformat": 4,
  "nbformat_minor": 0,
  "metadata": {
    "colab": {
      "provenance": []
    },
    "kernelspec": {
      "name": "python3",
      "display_name": "Python 3"
    },
    "language_info": {
      "name": "python"
    }
  },
  "cells": [
    {
      "cell_type": "code",
      "execution_count": null,
      "metadata": {
        "id": "IGFpt-zf67ZU"
      },
      "outputs": [],
      "source": [
        "class Human:\n",
        "    # おまじない(Humanクラスを作成)\n",
        "    def __init__(self, name, age):\n",
        "        self.name = name\n",
        "        self.age = age\n",
        "\n",
        "    # 関数(メソッドを追加)\n",
        "    def check_adult(self):\n",
        "      # ageが20以上の場合に大人かどうか\n",
        "      if self.age >= 20:\n",
        "        print(f\"{self.name}さんは年齢が20歳以上で{self.age}歳なので大人です\")\n",
        "      # ageが20未満の場合\n",
        "      else:\n",
        "        print(f\"{self.name}さんは年齢が20歳未満で{self.age}歳なので大人ではありません\")\n",
        "\n",
        "# Humanクラスのインスタンスを複数生成してリストに追加\n",
        "humans = [Human(\"侍太郎\", 43)]\n",
        "humans.append(Human(\"侍一郎\", 25))\n",
        "humans.append(Human(\"侍二郎\", 18))\n",
        "humans.append(Human(\"侍三郎\", 96))\n",
        "humans.append(Human(\"侍四郎\", 6))\n",
        "\n",
        "\n",
        "# リストの要素数分だけcheck_adultメソッド(関数)を呼び出し\n",
        "for humans in humans:\n",
        "  humans.check_adult()"
      ]
    }
  ]
}