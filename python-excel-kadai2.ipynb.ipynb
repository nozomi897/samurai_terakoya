{
  "nbformat": 4,
  "nbformat_minor": 0,
  "metadata": {
    "colab": {
      "provenance": []
    },
    "kernelspec": {
      "name": "python3",
      "display_name": "Python 3"
    },
    "language_info": {
      "name": "python"
    }
  },
  "cells": [
    {
      "cell_type": "code",
      "execution_count": 14,
      "metadata": {
        "id": "JuqkyE-ok4sU"
      },
      "outputs": [],
      "source": [
        "import pandas as pd\n",
        "\n",
        "# データを作成\n",
        "data = {\n",
        "    \"日付\": [\"2023-05-17\", \"2023-05-18\", \"2023-05-19\", \"2023-05-20\", \"2023-05-21\"],\n",
        "    \"社員名\": [\"山田\", \"佐藤\", \"鈴木\", \"田中\", \"高橋\"],\n",
        "    \"売上\": [100, 200, 150, 300, 250],\n",
        "    \"部門\": [\"メーカー\", \"代理店\", \"メーカー\", \"商社\", \"代理店\"]\n",
        "}\n",
        "\n",
        "# DataFrameに変換\n",
        "df = pd.DataFrame(data)\n",
        "\n",
        "# 全体の売上の平均を計算\n",
        "df['売上平均'] = df[\"売上\"].mean()\n",
        "sales_average = df['売上'].mean()\n",
        "\n",
        "# 業績ランクを設定する関数を定義\n",
        "def performance(lank):\n",
        "    if lank >= sales_average + 50:\n",
        "        return \"A\"\n",
        "    elif lank >= sales_average:\n",
        "        return \"B\"\n",
        "    else:\n",
        "        return \"C\"\n",
        "\n",
        "# 「業績ランク」列を作成\n",
        "df[\"業績ランク\"] = df[\"売上\"].apply(performance)\n",
        "\n",
        "# Excelファイルを作成\n",
        "writer = pd.ExcelWriter('業績.xlsx')\n",
        "\n",
        "# DataFrameオブジェクトをExcelファイルに書き込む\n",
        "df.to_excel(writer, sheet_name='Sheet1', index=False)\n",
        "\n",
        "# Excelファイルを閉じる\n",
        "writer.close()\n"
      ]
    }
  ]
}