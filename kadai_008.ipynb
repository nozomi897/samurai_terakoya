{
  "nbformat": 4,
  "nbformat_minor": 0,
  "metadata": {
    "colab": {
      "provenance": []
    },
    "kernelspec": {
      "name": "python3",
      "display_name": "Python 3"
    },
    "language_info": {
      "name": "python"
    }
  },
  "cells": [
    {
      "cell_type": "code",
      "execution_count": 1,
      "metadata": {
        "id": "Dh0mzc38uUxy",
        "outputId": "cef64965-7a2e-4521-e2dc-e005d1ebeb68",
        "colab": {
          "base_uri": "https://localhost:8080/"
        }
      },
      "outputs": [
        {
          "output_type": "stream",
          "name": "stdout",
          "text": [
            "FizzBuzz\n"
          ]
        }
      ],
      "source": [
        "ver = int\n",
        "\n",
        "ver = 120\n",
        "\n",
        "if ver % 15 == 0:\n",
        "    print(\"FizzBuzz\")\n",
        "\n",
        "elif ver % 3 == 0:\n",
        "    print(\"Fizz\")\n",
        "\n",
        "elif ver % 5 == 0:\n",
        "    print(\"Buzz\")\n",
        "\n",
        "else:\n",
        "    print(ver)"
      ]
    }
  ]
}