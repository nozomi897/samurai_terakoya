{
  "nbformat": 4,
  "nbformat_minor": 0,
  "metadata": {
    "colab": {
      "provenance": []
    },
    "kernelspec": {
      "name": "python3",
      "display_name": "Python 3"
    },
    "language_info": {
      "name": "python"
    }
  },
  "cells": [
    {
      "cell_type": "code",
      "execution_count": null,
      "metadata": {
        "id": "JuqkyE-ok4sU"
      },
      "outputs": [],
      "source": [
        "import openpyxl\n",
        "from openpyxl.styles import Border, Side\n",
        "\n",
        "# 新しいワークブックを作成\n",
        "workbook = openpyxl.Workbook()\n",
        "sheet = workbook.active\n",
        "\n",
        "# セル「B2」に、値「請求書」を設定する\n",
        "sheet['B2'].value = '請求書'\n",
        "\n",
        "# 指定した行に新しい行を挿入（3行目に空白行を1行挿入）\n",
        "sheet.insert_rows(3, 1)\n",
        "\n",
        "# 必要な情報のデータ\n",
        "sheet['B4'].value = '株式会社ABC'\n",
        "sheet['B5'].value = '〒101-0022 東京都千代田区神田練堀町300'\n",
        "sheet['B6'].value = 'TEL:03-1234-5678 FAX:03-1234-5678'\n",
        "sheet['B7'].value = '担当者名:鈴木一郎 様'\n",
        "sheet['F4'].value = 'No.'\n",
        "sheet['F5'].value = '日付'\n",
        "sheet['G4'].value = '0001'\n",
        "\n",
        "# datetimeモジュールをインポート\n",
        "import datetime\n",
        "\n",
        "# 指定した日付を取得　データの書き込み\n",
        "date = datetime.datetime.strptime(\"2023/06/06\", \"%Y/%m/%d\")\n",
        "sheet['G5'].value = date.strftime(\"%Y/%m/%d\")\n",
        "\n",
        "# 表のヘッダー行を書き込む\n",
        "header = ['商品名', '数量','単価', '金額']\n",
        "# B10 からヘッダーを書き込む\n",
        "start_row = 10  # 行番号\n",
        "start_col = 2   # 列番号 (B列)\n",
        "\n",
        "for col_index, value in enumerate(header):\n",
        "    sheet.cell(row=start_row, column=start_col + col_index).value = value\n",
        "\n",
        "# 商品データの書き込み\n",
        "data = [\n",
        "    ['商品A', 2, 10000, 20000],\n",
        "    ['商品B', 1, 15000, 15000],\n",
        "]\n",
        "\n",
        "# 繰り返し処理で指定したセルからデータを追加\n",
        "for i, row in enumerate(data):\n",
        "    for j, value in enumerate(row):\n",
        "        sheet.cell(row=start_row + 1 + i, column=start_column + j).value=value\n",
        "\n",
        "# 4列目（インデックス3）の合計\n",
        "column = [row[3] for row in data]\n",
        "\n",
        "# 消費税率を設定\n",
        "tax_rate = 0.10\n",
        "\n",
        "# 消費税額を計算\n",
        "tax_amount = total_sum * tax_rate\n",
        "\n",
        "# 消費税込みの総額を計算\n",
        "total_with_tax = total_sum + tax_amount\n",
        "\n",
        "# 合計値の書き込み\n",
        "sheet['E13'].value = column_total\n",
        "sheet['B15'].value = '小計'\n",
        "sheet['E15'].value = column_total\n",
        "sheet['B16'].value = '消費税'\n",
        "sheet['E16'].value = tax_amount\n",
        "sheet['B17'].value = '合計'\n",
        "sheet['E17'].value = total_with_tax\n",
        "\n",
        "workbook.save('sample1_.xlsx')"
      ]
    }
  ]
}