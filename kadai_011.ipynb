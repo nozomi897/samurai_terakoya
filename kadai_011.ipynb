{
  "nbformat": 4,
  "nbformat_minor": 0,
  "metadata": {
    "colab": {
      "provenance": []
    },
    "kernelspec": {
      "name": "python3",
      "display_name": "Python 3"
    },
    "language_info": {
      "name": "python"
    }
  },
  "cells": [
    {
      "cell_type": "code",
      "execution_count": null,
      "metadata": {
        "id": "EPhRl0ld3YKo"
      },
      "outputs": [],
      "source": [
        "array = [\"水\",\"金\",\"地\",\"火\",\"木\",\"土\",\"天\",\"海\",\"冥\"]\n",
        "\n",
        "i = 1\n",
        "\n",
        "while i < 3:\n",
        "\n",
        "  for value in array:\n",
        "    print(value)\n",
        "\n",
        "  i = i + 1"
      ]
    }
  ]
}