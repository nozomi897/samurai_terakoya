{
  "nbformat": 4,
  "nbformat_minor": 0,
  "metadata": {
    "colab": {
      "provenance": []
    },
    "kernelspec": {
      "name": "python3",
      "display_name": "Python 3"
    },
    "language_info": {
      "name": "python"
    }
  },
  "cells": [
    {
      "cell_type": "code",
      "execution_count": null,
      "metadata": {
        "id": "gNuWh4PpXwnR"
      },
      "outputs": [],
      "source": [
        "!pip install pandas openpyxl\n",
        "\n",
        "import pandas as pd\n",
        "from openpyxl import load_workbook\n",
        "from openpyxl.styles import PatternFill\n",
        "\n",
        "# 2つのExcelファイルを読み込む\n",
        "df_2022 = pd.read_excel(\"2022_年間売上表.xlsx\", sheet_name=\"Sheet1\")\n",
        "df_2023 = pd.read_excel(\"2023_年間売上表.xlsx\", sheet_name=\"Sheet1\")\n",
        "\n",
        "# 2つのデータフレームを連結する\n",
        "df_all = pd.concat([df_2022, df_2023])\n",
        "\n",
        "# 「商品」「売上年」ごとにグループ化し、金額を合計\n",
        "df_grouped = df_all.groupby(['商品', '売上年'], as_index=False)['金額（千円）'].sum()\n",
        "\n",
        "# 結果Excelに保存\n",
        "output_file = \"売上集計表.xlsx\"\n",
        "df_grouped.to_excel(output_file, index=False, sheet_name=\"Sheet1\")\n",
        "\n",
        "# 書式変更、保存したExcelファイルの読み込み\n",
        "wb = load_workbook(output_file)\n",
        "ws = wb.active\n",
        "\n",
        "# ヘッダー部分（1行目A1-C1）の色を設定\n",
        "header_fill = PatternFill(start_color=\"F2F2F2\", end_color=\"F2F2F2\", fill_type=\"solid\")\n",
        "\n",
        "for cell in ws[1]:  # 1行目のすべてのセル\n",
        "    cell.fill = header_fill\n",
        "\n",
        "# Excelファイルを保存\n",
        "wb.save(output_file)"
      ]
    }
  ]
}