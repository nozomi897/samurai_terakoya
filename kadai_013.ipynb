{
  "nbformat": 4,
  "nbformat_minor": 0,
  "metadata": {
    "colab": {
      "provenance": []
    },
    "kernelspec": {
      "name": "python3",
      "display_name": "Python 3"
    },
    "language_info": {
      "name": "python"
    }
  },
  "cells": [
    {
      "cell_type": "code",
      "execution_count": 3,
      "metadata": {
        "colab": {
          "base_uri": "https://localhost:8080/"
        },
        "id": "9tMU8gD58eiP",
        "outputId": "707b436a-fecb-4511-e6cb-5422dedabca6"
      },
      "outputs": [
        {
          "output_type": "execute_result",
          "data": {
            "text/plain": [
              "110.0"
            ]
          },
          "metadata": {},
          "execution_count": 3
        }
      ],
      "source": [
        "# 消費税は10%\n",
        "tax = 0.1\n",
        "\n",
        "# 購入した商品に小税を含んで計算する\n",
        "def calculate_tax(price, tax) -> float:\n",
        "  total = (price + price * tax)\n",
        "  return total\n",
        "  print(total)\n",
        "\n",
        "calculate_tax(100, tax)"
      ]
    }
  ]
}